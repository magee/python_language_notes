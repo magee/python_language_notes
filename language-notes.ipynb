{
 "cells": [
  {
   "cell_type": "markdown",
   "metadata": {},
   "source": [
    "# Python Language Notes\n"
   ]
  },
  {
   "cell_type": "markdown",
   "metadata": {},
   "source": [
    "* [Dictionary Notes](./dictionaries.ipynb)\n",
    "* [Comprehensions and Lambdas](./comprehensions-lambdas.ipynb)\n"
   ]
  },
  {
   "cell_type": "markdown",
   "metadata": {},
   "source": [
    "## Miscellaneous Notes\n"
   ]
  },
  {
   "cell_type": "markdown",
   "metadata": {},
   "source": [
    "### f strings"
   ]
  },
  {
   "cell_type": "markdown",
   "metadata": {},
   "source": [
    "##### Shorthand for printing variable values to the console:\n",
    "\n",
    "Note the shorthand using the '=' symbol inside the brackets.  It provides a quick and concise way to output variable names and values without having to explicitly state both."
   ]
  },
  {
   "cell_type": "code",
   "execution_count": 10,
   "metadata": {},
   "outputs": [
    {
     "name": "stdout",
     "output_type": "stream",
     "text": [
      "val = -3.7044942378997803\n",
      "val=-3.7044942378997803\n",
      "val = -3.704494\n",
      "val=-3.704494\n"
     ]
    }
   ],
   "source": [
    "val = -3.7044942378997803\n",
    "\n",
    "print(\"val =\", val)\n",
    "print(f\"{val=}\")\n",
    "\n",
    "print(\"val = %f\" % val)\n",
    "print(f\"{val=:.6f}\")"
   ]
  },
  {
   "cell_type": "markdown",
   "metadata": {},
   "source": [
    "### zip()\n",
    "\n",
    "    zip(*iterables)\n",
    "\n",
    "From the docs: \n",
    "\n",
    "*Make an iterator that aggregates elements from each of the iterables.*\n",
    "\n",
    "*Returns an iterator of tuples, where the i-th tuple contains the i-th element from each of the argument sequences or iterables. The iterator stops when the shortest input iterable is exhausted. With a single iterable argument, it returns an iterator of 1-tuples. With no arguments, it returns an empty iterator.*\n",
    "\n",
    "- [Python Docs](https://docs.python.org/3.3/library/functions.html#zip)\n",
    "- [Geeks for Geeks](https://www.geeksforgeeks.org/zip-in-python/)\n"
   ]
  },
  {
   "cell_type": "markdown",
   "metadata": {},
   "source": [
    "##### My notes\n",
    "\n",
    "zip takes iterators, matches up their values by iteration, creating a tuple of the set of values of a single iteration, and then produces a simple iterator of these tuples. It halts and returns when any iterator runs out of values. \n",
    "\n",
    "In the event, I want unmatched tuples to exhaust all values, use [itertools.zip_longest()](https://docs.python.org/3.3/library/itertools.html#itertools.zip_longest). \n"
   ]
  },
  {
   "cell_type": "code",
   "execution_count": null,
   "metadata": {},
   "outputs": [
    {
     "name": "stdout",
     "output_type": "stream",
     "text": [
      "Mukesh 24\n",
      "Roni 50\n",
      "Chari 18\n"
     ]
    }
   ],
   "source": [
    "names = ['Mukesh', 'Roni', 'Chari']\n",
    "ages = [24, 50, 18]\n",
    " \n",
    "for (name, age) in zip(names, ages):\n",
    "    print(name, age)"
   ]
  },
  {
   "cell_type": "markdown",
   "metadata": {},
   "source": [
    "##### My notes\n",
    "\n",
    "zip takes iterators, matches up their values by iteration, creating a tuple of the set of values of a single iteration, and then produces a simple iterator of these tuples. It halts and returns when any iterator runs out of values. \n",
    "\n",
    "In the event, I want unmatched tuples to exhaust all values, use [itertools.zip_longest()](https://docs.python.org/3.3/library/itertools.html#itertools.zip_longest).  Given that I would lose the positional association of those smaller tuples with the data in the previous ones, I would likely have to order the iterables in descending order of length to ensure positional integrity of the data.  In other words, aTuple[0] refers to the same data element in each tuple, regardless of the number of values in each tuple in the data set.\n"
   ]
  },
  {
   "cell_type": "code",
   "execution_count": 17,
   "metadata": {},
   "outputs": [
    {
     "name": "stdout",
     "output_type": "stream",
     "text": [
      "Mukesh 24\n",
      "Roni 50\n",
      "Chari 18\n"
     ]
    }
   ],
   "source": [
    "names = ['Mukesh', 'Roni', 'Chari']\n",
    "ages = [24, 50, 18]\n",
    " \n",
    "for (name, age) in zip(names, ages):\n",
    "    print(name, age)"
   ]
  },
  {
   "cell_type": "markdown",
   "metadata": {},
   "source": [
    "### itertools.zip_longest()\n",
    "\n",
    "    itertools.zip_longest()(*iterables)\n",
    "\n",
    "From the docs: \n",
    "\n",
    "*Make an iterator that aggregates elements from each of the iterables.*\n",
    "\n",
    "*Returns an iterator of tuples, where the i-th tuple contains the i-th element from each of the argument sequences or iterables. The iterator stops when the shortest input iterable is exhausted. With a single iterable argument, it returns an iterator of 1-tuples. With no arguments, it returns an empty iterator.*\n",
    "\n",
    "- [Python Docs](https://docs.python.org/3.3/library/functions.html#zip)\n",
    "- [Geeks for Geeks](https://www.geeksforgeeks.org/zip-in-python/)\n"
   ]
  },
  {
   "cell_type": "markdown",
   "metadata": {},
   "source": [
    "Default `zip()` behavior:"
   ]
  },
  {
   "cell_type": "code",
   "execution_count": 10,
   "metadata": {},
   "outputs": [
    {
     "name": "stdout",
     "output_type": "stream",
     "text": [
      "Mukesh 24\n",
      "Roni 50\n",
      "Chari 18\n"
     ]
    }
   ],
   "source": [
    "names = ['Mukesh', 'Roni', 'Chari', 'Constance', 'Nelson']\n",
    "ages = [24, 50, 18]\n",
    " \n",
    "for (name, age) in zip(names, ages):\n",
    "    print(name, age)"
   ]
  },
  {
   "cell_type": "markdown",
   "metadata": {},
   "source": [
    "This same results with `itertools.zip_longest()`:"
   ]
  },
  {
   "cell_type": "code",
   "execution_count": 13,
   "metadata": {},
   "outputs": [
    {
     "name": "stdout",
     "output_type": "stream",
     "text": [
      "Mukesh 24\n",
      "Roni 50\n",
      "Chari 18\n",
      "Constance None\n",
      "Nelson None\n"
     ]
    }
   ],
   "source": [
    "import itertools\n",
    "\n",
    "names = ['Mukesh', 'Roni', 'Chari', 'Constance', 'Nelson']\n",
    "ages = [24, 50, 18]\n",
    " \n",
    "for (name, age) in itertools.zip_longest(names, ages):\n",
    "    print(name, age)"
   ]
  },
  {
   "cell_type": "code",
   "execution_count": 15,
   "metadata": {},
   "outputs": [
    {
     "name": "stdout",
     "output_type": "stream",
     "text": [
      "Mukesh 24\n",
      "Roni 50\n",
      "Chari 18\n",
      "None 32\n",
      "None 5\n",
      "None 89\n"
     ]
    }
   ],
   "source": [
    "names = ['Mukesh', 'Roni', 'Chari']\n",
    "ages = [24, 50, 18, 32, 5, 89]\n",
    " \n",
    "for (name, age) in itertools.zip_longest(names, ages):\n",
    "    print(name, age)"
   ]
  },
  {
   "cell_type": "markdown",
   "metadata": {},
   "source": [
    "#### My Notes\n",
    "\n",
    "Presumably, once we lose values from a tuple, the subsequent tuples would lose positional integrity with the previous ones, creating a data integrity problem.  To solve this, itertools.zip_longest() inserts a *fill value* to maintain positional integrity."
   ]
  },
  {
   "cell_type": "markdown",
   "metadata": {},
   "source": [
    "### enumerate()\n",
    "\n",
    "    enumerate(iterable, start=0)\n",
    "\n",
    "From the docs:\n",
    "\n",
    "*Return an enumerate object. iterable must be a sequence, an iterator, or some other object which supports iteration. The **next**() method of the iterator returned by enumerate() returns a tuple containing a count (from start which defaults to 0) and the values obtained from iterating over iterable.*\n",
    "\n",
    "- [Python Docs](https://docs.python.org/3.3/library/functions.html#enumerate)\n"
   ]
  },
  {
   "cell_type": "code",
   "execution_count": 2,
   "metadata": {},
   "outputs": [
    {
     "name": "stdout",
     "output_type": "stream",
     "text": [
      "(0, 'Mukesh')\n",
      "(1, 'Roni')\n",
      "(2, 'Chari')\n"
     ]
    }
   ],
   "source": [
    "names = ['Mukesh', 'Roni', 'Chari']\n",
    "\n",
    "newIter = enumerate(names)\n",
    "\n",
    "for val in newIter:\n",
    "    print(val)\n"
   ]
  },
  {
   "cell_type": "markdown",
   "metadata": {},
   "source": [
    "Using zip() with enumerate() to number zipped content\n"
   ]
  },
  {
   "cell_type": "code",
   "execution_count": 6,
   "metadata": {},
   "outputs": [
    {
     "name": "stdout",
     "output_type": "stream",
     "text": [
      "(0, ('Mukesh', 24))\n",
      "(1, ('Roni', 50))\n",
      "(2, ('Chari', 18))\n"
     ]
    }
   ],
   "source": [
    "names = ['Mukesh', 'Roni', 'Chari']\n",
    "ages = [24, 50, 18]\n",
    "\n",
    "newIter = enumerate(zip(names, ages))\n",
    "\n",
    "for val in newIter:\n",
    "    print(val)\n"
   ]
  }
 ],
 "metadata": {
  "kernelspec": {
   "display_name": "Makemore Exercise",
   "language": "python",
   "name": "makemore_exercise"
  },
  "language_info": {
   "codemirror_mode": {
    "name": "ipython",
    "version": 3
   },
   "file_extension": ".py",
   "mimetype": "text/x-python",
   "name": "python",
   "nbconvert_exporter": "python",
   "pygments_lexer": "ipython3",
   "version": "3.11.4"
  }
 },
 "nbformat": 4,
 "nbformat_minor": 2
}
