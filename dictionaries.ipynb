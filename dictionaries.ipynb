{
 "cells": [
  {
   "cell_type": "markdown",
   "metadata": {},
   "source": [
    "## Dictionaries in Python"
   ]
  },
  {
   "cell_type": "markdown",
   "metadata": {},
   "source": [
    "##### get(key, [default])"
   ]
  },
  {
   "cell_type": "markdown",
   "metadata": {},
   "source": [
    "Method returns the value of a dictionary for the key provided. If the key is not found, it returns the default value provided. If the default value is not provided, it returns None.\n",
    "\n",
    "\n",
    "[Python Docs](https://docs.python.org/3.3/library/stdtypes.html#dict)\n",
    "              "
   ]
  },
  {
   "cell_type": "code",
   "execution_count": 6,
   "metadata": {},
   "outputs": [
    {
     "data": {
      "text/plain": [
       "1"
      ]
     },
     "execution_count": 6,
     "metadata": {},
     "output_type": "execute_result"
    }
   ],
   "source": [
    "d = {'a': 1, 'b': 2}\n",
    "d.get('a')"
   ]
  },
  {
   "cell_type": "code",
   "execution_count": 7,
   "metadata": {},
   "outputs": [
    {
     "data": {
      "text/plain": [
       "3"
      ]
     },
     "execution_count": 7,
     "metadata": {},
     "output_type": "execute_result"
    }
   ],
   "source": [
    "d.get('c')\n",
    "d.get('c', 3)"
   ]
  },
  {
   "cell_type": "markdown",
   "metadata": {},
   "source": [
    "#### My observations"
   ]
  },
  {
   "cell_type": "markdown",
   "metadata": {},
   "source": [
    "In the code below, notice how using the optional default value in `get()` allows me to get existing counts to increment and where the letter doesn't already exist, it allows me to add a new key-value pair rather than erroring out when a key doesn't yet exist.\n",
    "\n",
    "This is a more elegant solution than Javascript's equivalent solution\n",
    "\n",
    "```\n",
    "for (letter in input) {\n",
    "    lowLetter = letter.toUpperCase()\n",
    "    char[lowLetter] = char[lowLetter] || 1\n",
    "}\n",
    "```"
   ]
  },
  {
   "cell_type": "code",
   "execution_count": 12,
   "metadata": {},
   "outputs": [
    {
     "name": "stdout",
     "output_type": "stream",
     "text": [
      "{'n': 3, 'o': 9, 'w': 1, ' ': 15, 'i': 4, 's': 1, 't': 7, 'h': 3, 'e': 6, 'm': 3, 'f': 2, 'r': 3, 'a': 2, 'l': 2, 'g': 1, 'd': 2, 'c': 2, 'u': 1, 'y': 1, '.': 1}\n"
     ]
    }
   ],
   "source": [
    "input = 'Now is the time for all good men to come to the aid of their country.'\n",
    "\n",
    "chars = {}\n",
    "\n",
    "for letter in input:\n",
    "    lowLetter = letter.lower()\n",
    "    chars[lowLetter] = chars.get(lowLetter, 0) + 1\n",
    "\n",
    "print(chars)"
   ]
  }
 ],
 "metadata": {
  "kernelspec": {
   "display_name": "Makemore Exercise",
   "language": "python",
   "name": "makemore_exercise"
  },
  "language_info": {
   "codemirror_mode": {
    "name": "ipython",
    "version": 3
   },
   "file_extension": ".py",
   "mimetype": "text/x-python",
   "name": "python",
   "nbconvert_exporter": "python",
   "pygments_lexer": "ipython3",
   "version": "3.11.4"
  }
 },
 "nbformat": 4,
 "nbformat_minor": 2
}
