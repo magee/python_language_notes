{
 "cells": [
  {
   "cell_type": "markdown",
   "metadata": {},
   "source": [
    "# Python Language Notes\n"
   ]
  },
  {
   "cell_type": "markdown",
   "metadata": {},
   "source": [
    "* [Dictionary Notes](./dictionaries.ipynb)\n",
    "* [Comprehensions and Lambdas](./comprehensions-lambdas.ipynb)\n"
   ]
  },
  {
   "cell_type": "markdown",
   "metadata": {},
   "source": [
    "## Miscellaneous Notes\n"
   ]
  },
  {
   "cell_type": "markdown",
   "metadata": {},
   "source": [
    "### f strings"
   ]
  },
  {
   "cell_type": "markdown",
   "metadata": {},
   "source": [
    "##### Shorthand for printing variable values to the console:\n",
    "\n",
    "Note the shorthand using the '=' symbol inside the brackets.  It provides a quick and concise way to output variable names and values without having to explicitly state both."
   ]
  },
  {
   "cell_type": "code",
   "execution_count": 10,
   "metadata": {},
   "outputs": [
    {
     "name": "stdout",
     "output_type": "stream",
     "text": [
      "val = -3.7044942378997803\n",
      "val=-3.7044942378997803\n",
      "val = -3.704494\n",
      "val=-3.704494\n"
     ]
    }
   ],
   "source": [
    "val = -3.7044942378997803\n",
    "\n",
    "print(\"val =\", val)\n",
    "print(f\"{val=}\")\n",
    "\n",
    "print(\"val = %f\" % val)\n",
    "print(f\"{val=:.6f}\")"
   ]
  },
  {
   "cell_type": "markdown",
   "metadata": {},
   "source": [
    "### zip()\n",
    "\n",
    "    zip(*iterables)\n",
    "\n",
    "Make an iterator that aggregates elements from each of the iterables.\n",
    "\n",
    "Returns an iterator of tuples, where the i-th tuple contains the i-th element from each of the argument sequences or iterables. The iterator stops when the shortest input iterable is exhausted. With a single iterable argument, it returns an iterator of 1-tuples. With no arguments, it returns an empty iterator.\n",
    "\n",
    "- [Python Docs](https://docs.python.org/3.3/library/functions.html#zip)\n",
    "- [Geeks for Geeks](https://www.geeksforgeeks.org/zip-in-python/)\n"
   ]
  },
  {
   "cell_type": "markdown",
   "metadata": {},
   "source": [
    "##### My observations\n",
    "\n",
    "zip takes iterators, matches up their values, creating a tuple of each and then produces a simple iterator of these tuples. It halts and returns when any iterator runs out of values. In the event, I want unmatched tuples to exhaust all values, use [itertools.zip_longest()](https://docs.python.org/3.3/library/itertools.html#itertools.zip_longest)\n"
   ]
  },
  {
   "cell_type": "code",
   "execution_count": 17,
   "metadata": {},
   "outputs": [
    {
     "name": "stdout",
     "output_type": "stream",
     "text": [
      "Mukesh 24\n",
      "Roni 50\n",
      "Chari 18\n"
     ]
    }
   ],
   "source": [
    "names = ['Mukesh', 'Roni', 'Chari']\n",
    "ages = [24, 50, 18]\n",
    " \n",
    "for (name, age) in zip(names, ages):\n",
    "    print(name, age)"
   ]
  },
  {
   "cell_type": "markdown",
   "metadata": {},
   "source": [
    "### enumerate()\n",
    "\n",
    "    enumerate(iterable, start=0)\n",
    "\n",
    "Return an enumerate object. iterable must be a sequence, an iterator, or some other object which supports iteration. The **next**() method of the iterator returned by enumerate() returns a tuple containing a count (from start which defaults to 0) and the values obtained from iterating over iterable.\n",
    "\n",
    "- [Python Docs](https://docs.python.org/3.3/library/functions.html#enumerate)\n"
   ]
  },
  {
   "cell_type": "markdown",
   "metadata": {},
   "source": [
    "Using zip() with enumerate() to number zipped content\n"
   ]
  },
  {
   "cell_type": "code",
   "execution_count": 26,
   "metadata": {},
   "outputs": [
    {
     "name": "stdout",
     "output_type": "stream",
     "text": [
      "(0, ('Mukesh', 24))\n",
      "(1, ('Roni', 50))\n",
      "(2, ('Chari', 18))\n"
     ]
    }
   ],
   "source": [
    "names = ['Mukesh', 'Roni', 'Chari']\n",
    "ages = [24, 50, 18]\n",
    "\n",
    "newIter = enumerate(zip(names, ages))\n",
    "\n",
    "for val in newIter:\n",
    "    print(val)\n"
   ]
  },
  {
   "cell_type": "markdown",
   "metadata": {},
   "source": [
    "Refining the output...\n"
   ]
  },
  {
   "cell_type": "code",
   "execution_count": 27,
   "metadata": {},
   "outputs": [
    {
     "name": "stdout",
     "output_type": "stream",
     "text": [
      "0 Mukesh 24\n",
      "1 Roni 50\n",
      "2 Chari 18\n"
     ]
    }
   ],
   "source": [
    "newIter = enumerate(zip(names, ages))\n",
    "\n",
    "for i, (name, age) in newIter:\n",
    "    print(i, name, age)"
   ]
  },
  {
   "cell_type": "markdown",
   "metadata": {},
   "source": [
    "##### My observations\n"
   ]
  }
 ],
 "metadata": {
  "kernelspec": {
   "display_name": "Makemore Exercise",
   "language": "python",
   "name": "makemore_exercise"
  },
  "language_info": {
   "codemirror_mode": {
    "name": "ipython",
    "version": 3
   },
   "file_extension": ".py",
   "mimetype": "text/x-python",
   "name": "python",
   "nbconvert_exporter": "python",
   "pygments_lexer": "ipython3",
   "version": "3.11.4"
  }
 },
 "nbformat": 4,
 "nbformat_minor": 2
}
